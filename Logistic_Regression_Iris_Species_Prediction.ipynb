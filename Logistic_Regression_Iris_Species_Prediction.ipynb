{
  "nbformat": 4,
  "nbformat_minor": 0,
  "metadata": {
    "colab": {
      "name": "Logistic Regression: Iris Species Prediction.ipynb",
      "provenance": [],
      "collapsed_sections": []
    },
    "kernelspec": {
      "name": "python3",
      "display_name": "Python 3"
    }
  },
  "cells": [
    {
      "cell_type": "markdown",
      "metadata": {
        "id": "3WWsUESmeqHK"
      },
      "source": [
        "# Imports"
      ]
    },
    {
      "cell_type": "code",
      "metadata": {
        "id": "45ab4aa1-1267-4752-a45f-9c28afd03768"
      },
      "source": [
        "import numpy as np\n",
        "import pandas as pd\n",
        "from sklearn.datasets import load_iris\n",
        "import matplotlib.pyplot as plt"
      ],
      "execution_count": null,
      "outputs": []
    },
    {
      "cell_type": "markdown",
      "metadata": {
        "id": "H2V_8mHBdhGq"
      },
      "source": [
        "# $L_2$ Regularized Logistic Regression"
      ]
    },
    {
      "cell_type": "markdown",
      "metadata": {
        "id": "3e8d4fe5-6d59-47be-a656-84c5be7d0b05"
      },
      "source": [
        "## Sigmoid Function\n",
        "**Arguments:**\n",
        "\n",
        "* **`z`** : \n",
        "  * A 2D numpy array of floats\n",
        "\n",
        "**Returns:**\n",
        "\n",
        "* Sigmoid value of **z** with the same shape as **z**\n",
        "<br><br>$\\hspace{20mm}{\\sigma(z)} = \\frac{1}{1+e^{-z}}$\n"
      ]
    },
    {
      "cell_type": "code",
      "metadata": {
        "id": "c371755d-4e97-4041-9e8e-40fd4b76b423"
      },
      "source": [
        "def compute_sigmoid(z):\n",
        "    sigmoid_value = 1/(1 + np.exp(-z)) # broadcasting\n",
        "    return sigmoid_value"
      ],
      "execution_count": null,
      "outputs": []
    },
    {
      "cell_type": "markdown",
      "metadata": {
        "id": "0e12053a-5767-46db-853b-754611e340d5"
      },
      "source": [
        "## Hypothesis Function in Logistic Regression\n",
        "**Arguments:**\n",
        "\n",
        "* **`X`** : Design Matrix\n",
        "  * A 2D numpy array of shape (num of instances, num of features)\n",
        "\n",
        "* **`w`** : Parameters corresponding to each feature\n",
        "  * A 2D numpy array of shape (num of features, 1)\n",
        "\n",
        "* **`b`** :  Intercept value\n",
        "  * A float value\n",
        "\n",
        "\n",
        "**Returns:**\n",
        "\n",
        "* Hypothesis value for the given data\n",
        " * A 2D numpy array of shape (num of instances, 1) <br><br>$\\hspace{20mm}H = \\sigma(Xw+b)\\\\[0.1pt]$\n",
        "<br>$\\hspace{2cm}$(where $\\sigma$ represents the sigmoid function) "
      ]
    },
    {
      "cell_type": "code",
      "metadata": {
        "id": "e64ec88a-1b9d-4c37-a462-14cd75f88ae9"
      },
      "source": [
        "def compute_hypothesis(X, w, b):\n",
        "    z = np.dot(X, w) + b #broadcasting\n",
        "    H = compute_sigmoid(z)\n",
        "    return H"
      ],
      "execution_count": null,
      "outputs": []
    },
    {
      "cell_type": "markdown",
      "metadata": {
        "id": "bcb7b47a-5f80-44ad-9a72-0dd0d45719e0"
      },
      "source": [
        "## $L_2$ Regularized Cost Function\n",
        "\n",
        "**Arguments:**\n",
        "\n",
        "* **`X`** : Design Matrix\n",
        "  * A 2D numpy array of shape (num of instances, num of features)\n",
        "\n",
        "* **`Y`** : Target values corresponding to each training instance in $X$\n",
        "  * A 2D numpy array of shape (num of instances, 1)\n",
        "\n",
        "* **`w`** : Parameters corresponding to each feature\n",
        "  * A 2D numpy array of shape (num of features, 1)\n",
        "\n",
        "* **`b`** :  Intercept value\n",
        "  * A float value\n",
        "\n",
        "* **`Lambda`** :  Regularization parameter($\\lambda$)\n",
        "  * A float value\n",
        "\n",
        "\n",
        "**Returns:**\n",
        "\n",
        "* $L_2$ Regularized cost value for the given data <br><br>$\\hspace{20mm}J_{w,b}(X)=\\frac{-1}{m}\\left [Y^Tlog(H)+(1-Y)^Tlog(1-H) \\right ]+ \\frac{\\lambda}{2m}w^Tw\\\\[0.1pt]$\n",
        "<br>$\\hspace{2cm}$(where $H$ is the Hypothesis value of $X$, and $m$ is the number of instances) "
      ]
    },
    {
      "cell_type": "code",
      "metadata": {
        "id": "7f0588e1-b7e8-428b-97ff-341ed53ff050"
      },
      "source": [
        "def compute_L2_cost(X, Y, w, b, Lambda):\n",
        "    H = compute_hypothesis(X, w, b)\n",
        "    m = X.shape[0]\n",
        "    log_loss = -1/m *(np.dot(Y.T, np.log(H)) + np.dot((1-Y).T, np.log(1-H)))\n",
        "    regularization_term = (Lambda/(2*m))*np.dot(w.T, w)\n",
        "    cost_value =  log_loss + regularization_term\n",
        "    return cost_value.squeeze()"
      ],
      "execution_count": null,
      "outputs": []
    },
    {
      "cell_type": "markdown",
      "metadata": {
        "id": "948c2675-d18d-4331-8792-4352fc97c01a"
      },
      "source": [
        "## Gradients of $L_2$ Regularized Cost Function\n",
        "\n",
        "**Arguments:**\n",
        "\n",
        "* **`X`** : Design Matrix\n",
        "  * A 2D numpy array of shape (num of instances, num of features)\n",
        "\n",
        "* **`Y`** : Target values corresponding to each training instance in $X$\n",
        "  * A 2D numpy array of shape (num of instances, 1)\n",
        "\n",
        "* **`w`** : Parameters corresponding to each feature\n",
        "  * A 2D numpy array of shape (num of features, 1)\n",
        "\n",
        "* **`b`** :  Intercept value\n",
        "  * A float value\n",
        "\n",
        "* **`Lambda`** :  Regularization parameter($\\lambda$)\n",
        "  * A float value\n",
        "\n",
        "\n",
        "\n",
        "**Returns:**\n",
        "* Gradient of the cost function corresponding to the parameters of each feature.\n",
        " * A 2D numpy array of shape (num of features, 1)<br><br>$\\hspace{20mm}\\frac{dJ}{dw} = \\frac{1}{m}\\left [ X^T(H-Y) + \\lambda w\\right ]$<br><br>\n",
        "* Gradient corresponding to the intercept value\n",
        " * A float value<br><br>$\\hspace{20mm}\\frac{dJ}{db} = \\frac{1}{m}\\sum (H-Y) \\\\[0.1pt]  \\\\[0.1pt]$\n",
        "<br>$\\hspace{2cm}$(where $H$ is the Hypothesis value of $X$, and $m$ is the number of instances) \n"
      ]
    },
    {
      "cell_type": "code",
      "metadata": {
        "id": "da86ac9a-9155-483a-bd57-94feb8eb414d"
      },
      "source": [
        "def gradient_of_L2_cost(X, Y, w, b, Lambda):\n",
        "    H = compute_hypothesis(X, w, b)\n",
        "    m = X.shape[0]\n",
        "    dw = (1.0/m)*(np.dot(X.T, H - Y) + Lambda*w)\n",
        "    db = (1.0/m)*np.sum(H - Y)\n",
        "    return dw, db"
      ],
      "execution_count": null,
      "outputs": []
    },
    {
      "cell_type": "markdown",
      "metadata": {
        "id": "7b5c704b-20ae-4146-b573-5691ffb6f75b"
      },
      "source": [
        "## Gradient Descent in $L_2$ Regularized Logistic Regression\n",
        "\n",
        "**Arguments:**\n",
        "\n",
        "* **`X`** : Design Matrix\n",
        "  * A 2D numpy array of shape (num of instances, num of features)\n",
        "\n",
        "* **`Y`** : Target values corresponding to each training instance in $X$\n",
        "  * A 2D numpy array of shape (num of instances, 1)\n",
        "\n",
        "* **`w`** : Initial parameters corresponding to each feature\n",
        "  * A 2D numpy array of shape (num of features, 1)\n",
        "\n",
        "* **`b`** :  Initial intercept value\n",
        "  * A float value\n",
        "\n",
        "* **`cost_diff_threshold`** : threshold value for the absolute cost difference to stop iterating in gradient descent (*Convergence Criteria*)\n",
        "  * A float value\n",
        "\n",
        "* **`learning_rate`** :  Learning rate($\\alpha$)\n",
        "  * A float value\n",
        "\n",
        "* **`Lambda`** :  Regularization parameter($\\lambda$)\n",
        "  * A float value\n",
        "\n",
        "**Returns:**\n",
        "* `w`: Optimal parameters of features($w$'s)\n",
        " * A 2D numpy array with the same shape as the argument $w$<br>\n",
        "$\\hspace{10mm}w = w - \\alpha \\frac{dJ}{dw}$<br><br>\n",
        "* `b`: Optimal intercept value<br>\n",
        "$\\hspace{20mm}b = b - \\alpha \\frac{dJ}{db}$<br><br>\n",
        "\n",
        "**NOTE:**\n",
        "* The gradient descent is said to be converged when the absolute value of the cost difference is less than the given threshold.\n",
        "* Stop iterating when the gradient descent starts to diverge."
      ]
    },
    {
      "cell_type": "code",
      "metadata": {
        "id": "30db5dcf-a1e5-463b-846b-d3ecb63853fa"
      },
      "source": [
        "def gradient_descent(X, Y, w, b, cost_diff_threshold, learning_rate, Lambda):\n",
        "    prev_cost = compute_L2_cost(X, Y, w, b, Lambda)\n",
        "    cost_diff = cost_diff_threshold + 1\n",
        "    i = 0\n",
        "\n",
        "    while(abs(cost_diff) > cost_diff_threshold):\n",
        "        dw, db = gradient_of_L2_cost(X, Y, w, b, Lambda)\n",
        "        w = w - (learning_rate * dw)\n",
        "        b = b - (learning_rate * db)\n",
        "\n",
        "        cost = compute_L2_cost(X, Y, w, b, Lambda)\n",
        "        cost_diff = cost - prev_cost\n",
        "        if(cost_diff > 0): # diverging\n",
        "            break\n",
        "        prev_cost = cost \n",
        "        i+=1\n",
        "            \n",
        "    return w, b"
      ],
      "execution_count": null,
      "outputs": []
    },
    {
      "cell_type": "markdown",
      "metadata": {
        "id": "fc865f54-69b7-4a14-ab74-839e798fca47"
      },
      "source": [
        "## One-vs-Rest for Multi-Class Classification\n",
        "\n",
        "\n",
        "**Arguments:**\n",
        "\n",
        "* **`X`** : Design Matrix\n",
        "  * A 2D numpy array of shape (num of instances, num of features)\n",
        "\n",
        "* **`Y`** : Target values corresponding to each training instance in $X$\n",
        "  * A 2D numpy array of shape (num of instances, 1)\n",
        "\n",
        "* **`w`** : Initial parameters corresponding to each feature\n",
        "  * A 2D numpy array of shape (num of features, 1)\n",
        "\n",
        "* **`b`** :  Initial intercept value\n",
        "  * A float value\n",
        "\n",
        "* **`cost_diff_threshold`** : threshold value for the absolute cost difference to stop iterating in gradient descent (*Convergence Criteria*)\n",
        "  * A float value\n",
        "\n",
        "* **`learning_rate`** :  Learning rate($\\alpha$)\n",
        "  * A float value\n",
        "\n",
        "* **`Lambda`** :  Regularization parameter($\\lambda$)\n",
        "  * A float value\n",
        "\n",
        "\n",
        "\n",
        "**Returns:**\n",
        "* `classwise_params_dict`\n",
        " * A dict where the keys are the class labels and the values are the respective optimal parameters [$w$, $b$]<br>\n",
        "   * where $w$ is a 2D numpy array with the same shape as the argument $w$<br>\n",
        "   * $b$ is the optimal value of the intercept (float)\n"
      ]
    },
    {
      "cell_type": "code",
      "metadata": {
        "id": "b107eafb-467b-4d7f-8e56-c5632d348a39"
      },
      "source": [
        "def one_vs_rest(X, Y, w, b, cost_diff_threshold, learning_rate, Lambda):\n",
        "    classes = np.unique(Y)\n",
        "    classes.sort()\n",
        "\n",
        "    classwise_params_dict = {}\n",
        "    for class_label in classes:\n",
        "        class_Y = np.where(Y == class_label, 1, 0)\n",
        "        optimal_w, optimal_b = gradient_descent(X, class_Y, w, b, cost_diff_threshold, learning_rate, Lambda)\n",
        "        classwise_params_dict[class_label] = [optimal_w, optimal_b]\n",
        "\n",
        "    return classwise_params_dict"
      ],
      "execution_count": null,
      "outputs": []
    },
    {
      "cell_type": "markdown",
      "metadata": {
        "id": "209d9de7-cf9d-4711-9bad-4a989d1ea6e8"
      },
      "source": [
        "## Prediction in One-vs-Rest Approach \n",
        "\n",
        "\n",
        "**Arguments:**\n",
        "\n",
        "* **`X`** : Design Matrix to predict the class labels for\n",
        "  * A 2D numpy array of shape (num of instances, num of features)\n",
        "\n",
        "* **`classwise_params_dict`**: A dict where the keys are the class labels(ints) and the values are the respective optimal parameters [$w$, $b$]<br>\n",
        "   * where $w$ is a 2D numpy array with the shape (num of features, 1)<br>\n",
        "   * $b$ is the optimal value of the intercept (float)\n",
        "\n",
        "\n",
        "\n",
        "**Returns:**\n",
        "\n",
        "* Predicted class labels of $X$\n",
        " * A 2D numpy array of shape (num of instances, 1)\n",
        " * If there is a tie among the class probabilities, predict the class label with the smallest value among the tied classes."
      ]
    },
    {
      "cell_type": "code",
      "metadata": {
        "id": "a1bee541-6e1a-489e-9d48-af9a2dc9baac"
      },
      "source": [
        "def predict_labels_in_one_vs_rest(X, classwise_params_dict):\n",
        "    classes = sorted(classwise_params_dict.keys())\n",
        "    classes = np.array(classes)\n",
        "    m = X.shape[0] \n",
        "    classwise_hypothesis = np.zeros((len(classes), m))\n",
        "\n",
        "    for idx, class_label in enumerate(classes):\n",
        "        params = classwise_params_dict[class_label]\n",
        "        w = params[0]\n",
        "        b = params[1]\n",
        "        classwise_hypothesis[idx] = compute_hypothesis(X, w, b).ravel()\n",
        "        \n",
        "    predicted_class_indices = np.argmax(classwise_hypothesis, axis=0).ravel()\n",
        "    predictions = classes[predicted_class_indices]\n",
        "    return predictions.reshape(-1,1)"
      ],
      "execution_count": null,
      "outputs": []
    },
    {
      "cell_type": "markdown",
      "metadata": {
        "id": "T47Zqb-SLdXa"
      },
      "source": [
        "# Iris Flower Species Prediction"
      ]
    },
    {
      "cell_type": "markdown",
      "metadata": {
        "id": "gIQv2BapLzxi"
      },
      "source": [
        "## Data Collection"
      ]
    },
    {
      "cell_type": "markdown",
      "metadata": {
        "id": "SYVOl0qrilsK"
      },
      "source": [
        "Features"
      ]
    },
    {
      "cell_type": "code",
      "metadata": {
        "id": "v5PzYXYXQBUy",
        "colab": {
          "base_uri": "https://localhost:8080/",
          "height": 417
        },
        "outputId": "752169db-a6ce-4ce3-df85-c3d536a85781"
      },
      "source": [
        "data = load_iris()\n",
        "df = pd.DataFrame(data.data, columns=data.feature_names)\n",
        "df"
      ],
      "execution_count": null,
      "outputs": [
        {
          "output_type": "execute_result",
          "data": {
            "text/html": [
              "<div>\n",
              "<style scoped>\n",
              "    .dataframe tbody tr th:only-of-type {\n",
              "        vertical-align: middle;\n",
              "    }\n",
              "\n",
              "    .dataframe tbody tr th {\n",
              "        vertical-align: top;\n",
              "    }\n",
              "\n",
              "    .dataframe thead th {\n",
              "        text-align: right;\n",
              "    }\n",
              "</style>\n",
              "<table border=\"1\" class=\"dataframe\">\n",
              "  <thead>\n",
              "    <tr style=\"text-align: right;\">\n",
              "      <th></th>\n",
              "      <th>sepal length (cm)</th>\n",
              "      <th>sepal width (cm)</th>\n",
              "      <th>petal length (cm)</th>\n",
              "      <th>petal width (cm)</th>\n",
              "    </tr>\n",
              "  </thead>\n",
              "  <tbody>\n",
              "    <tr>\n",
              "      <th>0</th>\n",
              "      <td>5.1</td>\n",
              "      <td>3.5</td>\n",
              "      <td>1.4</td>\n",
              "      <td>0.2</td>\n",
              "    </tr>\n",
              "    <tr>\n",
              "      <th>1</th>\n",
              "      <td>4.9</td>\n",
              "      <td>3.0</td>\n",
              "      <td>1.4</td>\n",
              "      <td>0.2</td>\n",
              "    </tr>\n",
              "    <tr>\n",
              "      <th>2</th>\n",
              "      <td>4.7</td>\n",
              "      <td>3.2</td>\n",
              "      <td>1.3</td>\n",
              "      <td>0.2</td>\n",
              "    </tr>\n",
              "    <tr>\n",
              "      <th>3</th>\n",
              "      <td>4.6</td>\n",
              "      <td>3.1</td>\n",
              "      <td>1.5</td>\n",
              "      <td>0.2</td>\n",
              "    </tr>\n",
              "    <tr>\n",
              "      <th>4</th>\n",
              "      <td>5.0</td>\n",
              "      <td>3.6</td>\n",
              "      <td>1.4</td>\n",
              "      <td>0.2</td>\n",
              "    </tr>\n",
              "    <tr>\n",
              "      <th>...</th>\n",
              "      <td>...</td>\n",
              "      <td>...</td>\n",
              "      <td>...</td>\n",
              "      <td>...</td>\n",
              "    </tr>\n",
              "    <tr>\n",
              "      <th>145</th>\n",
              "      <td>6.7</td>\n",
              "      <td>3.0</td>\n",
              "      <td>5.2</td>\n",
              "      <td>2.3</td>\n",
              "    </tr>\n",
              "    <tr>\n",
              "      <th>146</th>\n",
              "      <td>6.3</td>\n",
              "      <td>2.5</td>\n",
              "      <td>5.0</td>\n",
              "      <td>1.9</td>\n",
              "    </tr>\n",
              "    <tr>\n",
              "      <th>147</th>\n",
              "      <td>6.5</td>\n",
              "      <td>3.0</td>\n",
              "      <td>5.2</td>\n",
              "      <td>2.0</td>\n",
              "    </tr>\n",
              "    <tr>\n",
              "      <th>148</th>\n",
              "      <td>6.2</td>\n",
              "      <td>3.4</td>\n",
              "      <td>5.4</td>\n",
              "      <td>2.3</td>\n",
              "    </tr>\n",
              "    <tr>\n",
              "      <th>149</th>\n",
              "      <td>5.9</td>\n",
              "      <td>3.0</td>\n",
              "      <td>5.1</td>\n",
              "      <td>1.8</td>\n",
              "    </tr>\n",
              "  </tbody>\n",
              "</table>\n",
              "<p>150 rows × 4 columns</p>\n",
              "</div>"
            ],
            "text/plain": [
              "     sepal length (cm)  sepal width (cm)  petal length (cm)  petal width (cm)\n",
              "0                  5.1               3.5                1.4               0.2\n",
              "1                  4.9               3.0                1.4               0.2\n",
              "2                  4.7               3.2                1.3               0.2\n",
              "3                  4.6               3.1                1.5               0.2\n",
              "4                  5.0               3.6                1.4               0.2\n",
              "..                 ...               ...                ...               ...\n",
              "145                6.7               3.0                5.2               2.3\n",
              "146                6.3               2.5                5.0               1.9\n",
              "147                6.5               3.0                5.2               2.0\n",
              "148                6.2               3.4                5.4               2.3\n",
              "149                5.9               3.0                5.1               1.8\n",
              "\n",
              "[150 rows x 4 columns]"
            ]
          },
          "metadata": {
            "tags": []
          },
          "execution_count": 11
        }
      ]
    },
    {
      "cell_type": "markdown",
      "metadata": {
        "id": "h1qLjbpFita8"
      },
      "source": [
        "Target Feature"
      ]
    },
    {
      "cell_type": "code",
      "metadata": {
        "id": "7ff8Wz-Ohst-",
        "colab": {
          "base_uri": "https://localhost:8080/",
          "height": 434
        },
        "outputId": "b5b33aa4-bc04-4033-dfa3-e8835cb67f82"
      },
      "source": [
        "print(data.target_names)\n",
        "df['species'] = data.target_names[data.target]\n",
        "df"
      ],
      "execution_count": null,
      "outputs": [
        {
          "output_type": "stream",
          "text": [
            "['setosa' 'versicolor' 'virginica']\n"
          ],
          "name": "stdout"
        },
        {
          "output_type": "execute_result",
          "data": {
            "text/html": [
              "<div>\n",
              "<style scoped>\n",
              "    .dataframe tbody tr th:only-of-type {\n",
              "        vertical-align: middle;\n",
              "    }\n",
              "\n",
              "    .dataframe tbody tr th {\n",
              "        vertical-align: top;\n",
              "    }\n",
              "\n",
              "    .dataframe thead th {\n",
              "        text-align: right;\n",
              "    }\n",
              "</style>\n",
              "<table border=\"1\" class=\"dataframe\">\n",
              "  <thead>\n",
              "    <tr style=\"text-align: right;\">\n",
              "      <th></th>\n",
              "      <th>sepal length (cm)</th>\n",
              "      <th>sepal width (cm)</th>\n",
              "      <th>petal length (cm)</th>\n",
              "      <th>petal width (cm)</th>\n",
              "      <th>species</th>\n",
              "    </tr>\n",
              "  </thead>\n",
              "  <tbody>\n",
              "    <tr>\n",
              "      <th>0</th>\n",
              "      <td>5.1</td>\n",
              "      <td>3.5</td>\n",
              "      <td>1.4</td>\n",
              "      <td>0.2</td>\n",
              "      <td>setosa</td>\n",
              "    </tr>\n",
              "    <tr>\n",
              "      <th>1</th>\n",
              "      <td>4.9</td>\n",
              "      <td>3.0</td>\n",
              "      <td>1.4</td>\n",
              "      <td>0.2</td>\n",
              "      <td>setosa</td>\n",
              "    </tr>\n",
              "    <tr>\n",
              "      <th>2</th>\n",
              "      <td>4.7</td>\n",
              "      <td>3.2</td>\n",
              "      <td>1.3</td>\n",
              "      <td>0.2</td>\n",
              "      <td>setosa</td>\n",
              "    </tr>\n",
              "    <tr>\n",
              "      <th>3</th>\n",
              "      <td>4.6</td>\n",
              "      <td>3.1</td>\n",
              "      <td>1.5</td>\n",
              "      <td>0.2</td>\n",
              "      <td>setosa</td>\n",
              "    </tr>\n",
              "    <tr>\n",
              "      <th>4</th>\n",
              "      <td>5.0</td>\n",
              "      <td>3.6</td>\n",
              "      <td>1.4</td>\n",
              "      <td>0.2</td>\n",
              "      <td>setosa</td>\n",
              "    </tr>\n",
              "    <tr>\n",
              "      <th>...</th>\n",
              "      <td>...</td>\n",
              "      <td>...</td>\n",
              "      <td>...</td>\n",
              "      <td>...</td>\n",
              "      <td>...</td>\n",
              "    </tr>\n",
              "    <tr>\n",
              "      <th>145</th>\n",
              "      <td>6.7</td>\n",
              "      <td>3.0</td>\n",
              "      <td>5.2</td>\n",
              "      <td>2.3</td>\n",
              "      <td>virginica</td>\n",
              "    </tr>\n",
              "    <tr>\n",
              "      <th>146</th>\n",
              "      <td>6.3</td>\n",
              "      <td>2.5</td>\n",
              "      <td>5.0</td>\n",
              "      <td>1.9</td>\n",
              "      <td>virginica</td>\n",
              "    </tr>\n",
              "    <tr>\n",
              "      <th>147</th>\n",
              "      <td>6.5</td>\n",
              "      <td>3.0</td>\n",
              "      <td>5.2</td>\n",
              "      <td>2.0</td>\n",
              "      <td>virginica</td>\n",
              "    </tr>\n",
              "    <tr>\n",
              "      <th>148</th>\n",
              "      <td>6.2</td>\n",
              "      <td>3.4</td>\n",
              "      <td>5.4</td>\n",
              "      <td>2.3</td>\n",
              "      <td>virginica</td>\n",
              "    </tr>\n",
              "    <tr>\n",
              "      <th>149</th>\n",
              "      <td>5.9</td>\n",
              "      <td>3.0</td>\n",
              "      <td>5.1</td>\n",
              "      <td>1.8</td>\n",
              "      <td>virginica</td>\n",
              "    </tr>\n",
              "  </tbody>\n",
              "</table>\n",
              "<p>150 rows × 5 columns</p>\n",
              "</div>"
            ],
            "text/plain": [
              "     sepal length (cm)  sepal width (cm)  ...  petal width (cm)    species\n",
              "0                  5.1               3.5  ...               0.2     setosa\n",
              "1                  4.9               3.0  ...               0.2     setosa\n",
              "2                  4.7               3.2  ...               0.2     setosa\n",
              "3                  4.6               3.1  ...               0.2     setosa\n",
              "4                  5.0               3.6  ...               0.2     setosa\n",
              "..                 ...               ...  ...               ...        ...\n",
              "145                6.7               3.0  ...               2.3  virginica\n",
              "146                6.3               2.5  ...               1.9  virginica\n",
              "147                6.5               3.0  ...               2.0  virginica\n",
              "148                6.2               3.4  ...               2.3  virginica\n",
              "149                5.9               3.0  ...               1.8  virginica\n",
              "\n",
              "[150 rows x 5 columns]"
            ]
          },
          "metadata": {
            "tags": []
          },
          "execution_count": 12
        }
      ]
    },
    {
      "cell_type": "markdown",
      "metadata": {
        "id": "KK4WyZgm343-"
      },
      "source": [
        "## Data Preprocessing"
      ]
    },
    {
      "cell_type": "markdown",
      "metadata": {
        "id": "lVzvUbr7wBZ4"
      },
      "source": [
        "### Checking for missing values"
      ]
    },
    {
      "cell_type": "code",
      "metadata": {
        "id": "svtzxINGxEew",
        "colab": {
          "base_uri": "https://localhost:8080/"
        },
        "outputId": "a66d1367-6906-4612-edb0-63e88d2f59db"
      },
      "source": [
        "df.isna().sum()"
      ],
      "execution_count": null,
      "outputs": [
        {
          "output_type": "execute_result",
          "data": {
            "text/plain": [
              "sepal length (cm)    0\n",
              "sepal width (cm)     0\n",
              "petal length (cm)    0\n",
              "petal width (cm)     0\n",
              "species              0\n",
              "dtype: int64"
            ]
          },
          "metadata": {
            "tags": []
          },
          "execution_count": 13
        }
      ]
    },
    {
      "cell_type": "markdown",
      "metadata": {
        "id": "TeitZGBkQyyp"
      },
      "source": [
        "### Handling duplicates"
      ]
    },
    {
      "cell_type": "code",
      "metadata": {
        "id": "iR-e90KGxHiP",
        "colab": {
          "base_uri": "https://localhost:8080/",
          "height": 110
        },
        "outputId": "b37c8a02-f9d3-4856-c4d2-ccee7583071a"
      },
      "source": [
        "df[df.duplicated(keep=False)]"
      ],
      "execution_count": null,
      "outputs": [
        {
          "output_type": "execute_result",
          "data": {
            "text/html": [
              "<div>\n",
              "<style scoped>\n",
              "    .dataframe tbody tr th:only-of-type {\n",
              "        vertical-align: middle;\n",
              "    }\n",
              "\n",
              "    .dataframe tbody tr th {\n",
              "        vertical-align: top;\n",
              "    }\n",
              "\n",
              "    .dataframe thead th {\n",
              "        text-align: right;\n",
              "    }\n",
              "</style>\n",
              "<table border=\"1\" class=\"dataframe\">\n",
              "  <thead>\n",
              "    <tr style=\"text-align: right;\">\n",
              "      <th></th>\n",
              "      <th>sepal length (cm)</th>\n",
              "      <th>sepal width (cm)</th>\n",
              "      <th>petal length (cm)</th>\n",
              "      <th>petal width (cm)</th>\n",
              "      <th>species</th>\n",
              "    </tr>\n",
              "  </thead>\n",
              "  <tbody>\n",
              "    <tr>\n",
              "      <th>101</th>\n",
              "      <td>5.8</td>\n",
              "      <td>2.7</td>\n",
              "      <td>5.1</td>\n",
              "      <td>1.9</td>\n",
              "      <td>virginica</td>\n",
              "    </tr>\n",
              "    <tr>\n",
              "      <th>142</th>\n",
              "      <td>5.8</td>\n",
              "      <td>2.7</td>\n",
              "      <td>5.1</td>\n",
              "      <td>1.9</td>\n",
              "      <td>virginica</td>\n",
              "    </tr>\n",
              "  </tbody>\n",
              "</table>\n",
              "</div>"
            ],
            "text/plain": [
              "     sepal length (cm)  sepal width (cm)  ...  petal width (cm)    species\n",
              "101                5.8               2.7  ...               1.9  virginica\n",
              "142                5.8               2.7  ...               1.9  virginica\n",
              "\n",
              "[2 rows x 5 columns]"
            ]
          },
          "metadata": {
            "tags": []
          },
          "execution_count": 14
        }
      ]
    },
    {
      "cell_type": "code",
      "metadata": {
        "id": "rIV6Oq53C_M0"
      },
      "source": [
        "df = df.drop_duplicates()"
      ],
      "execution_count": null,
      "outputs": []
    },
    {
      "cell_type": "markdown",
      "metadata": {
        "id": "HoMy6zBRn5Ja"
      },
      "source": [
        "Converting data to numpy arrays"
      ]
    },
    {
      "cell_type": "code",
      "metadata": {
        "id": "3wPekKNmAOkF"
      },
      "source": [
        "df = df.replace({'setosa': 0, 'versicolor': 1, 'virginica':2})\n",
        "target_Y = df.pop('species')\n",
        "\n",
        "iris_X = df.to_numpy()\n",
        "iris_Y = target_Y.to_numpy().reshape(-1,1)"
      ],
      "execution_count": null,
      "outputs": []
    },
    {
      "cell_type": "markdown",
      "metadata": {
        "id": "h9AovIC0mzSB"
      },
      "source": [
        "## Applying Logistic Regression for Iris Flower Species Prediction"
      ]
    },
    {
      "cell_type": "markdown",
      "metadata": {
        "id": "zh7_KU5gX9vb"
      },
      "source": [
        "### Splitting data into Train, Validation and Test sets"
      ]
    },
    {
      "cell_type": "code",
      "metadata": {
        "id": "0kCGt_9ZnemO"
      },
      "source": [
        "def split_train_val_test(X, Y):\n",
        "    np.random.seed(11235810) \n",
        "    data_count = X.shape[0]\n",
        "    permuted_indices = np.random.permutation(data_count)\n",
        "\n",
        "    train_ratio = 0.6\n",
        "    validation_ratio = 0.2\n",
        "    train_count = np.int(train_ratio * data_count)\n",
        "    val_count = np.int(validation_ratio * data_count)\n",
        "\n",
        "    shuffled_X = X[permuted_indices]\n",
        "    shuffled_Y = Y[permuted_indices]\n",
        "\n",
        "    train_X = shuffled_X[:train_count]\n",
        "    train_Y = shuffled_Y[:train_count]\n",
        "\n",
        "    val_X = shuffled_X[train_count:train_count+val_count]\n",
        "    val_Y = shuffled_Y[train_count:train_count+val_count]\n",
        "    \n",
        "    test_X = shuffled_X[train_count+val_count:]\n",
        "    test_Y = shuffled_Y[train_count+val_count:]\n",
        "\n",
        "    return train_X, train_Y, val_X, val_Y, test_X, test_Y"
      ],
      "execution_count": null,
      "outputs": []
    },
    {
      "cell_type": "code",
      "metadata": {
        "id": "rEynKLROWoYx"
      },
      "source": [
        "train_X, train_Y, val_X, val_Y, test_X, test_Y = split_train_val_test(iris_X, iris_Y)"
      ],
      "execution_count": null,
      "outputs": []
    },
    {
      "cell_type": "markdown",
      "metadata": {
        "id": "LCqHgq8UdWiM"
      },
      "source": [
        "### Training"
      ]
    },
    {
      "cell_type": "markdown",
      "metadata": {
        "id": "XWywzkidgJ_p"
      },
      "source": [
        " Parameter & Hyperparameter values"
      ]
    },
    {
      "cell_type": "code",
      "metadata": {
        "id": "FG28UkcVgJfc"
      },
      "source": [
        "n = train_X.shape[1]\n",
        "w = np.zeros((n,1))\n",
        "b = 0\n",
        "cost_diff_threshold = 1e-7\n",
        "learning_rate = 0.001\n",
        "Lambda = 0"
      ],
      "execution_count": null,
      "outputs": []
    },
    {
      "cell_type": "markdown",
      "metadata": {
        "id": "GaEjmsYegmro"
      },
      "source": [
        "Using One-vs-Rest Approach to Train"
      ]
    },
    {
      "cell_type": "code",
      "metadata": {
        "id": "NXm-6d9YglPu"
      },
      "source": [
        "classwise_params_dict = one_vs_rest(train_X, train_Y, w, b, cost_diff_threshold, learning_rate, Lambda)"
      ],
      "execution_count": null,
      "outputs": []
    },
    {
      "cell_type": "markdown",
      "metadata": {
        "id": "6VAmb0Adarm6"
      },
      "source": [
        "### Prediction & Evaluation"
      ]
    },
    {
      "cell_type": "code",
      "metadata": {
        "id": "jfTp6jvUaiO4"
      },
      "source": [
        "def predict_and_evaluate(X, Y, classwise_params_dict):\n",
        "    pred_Y = predict_labels_in_one_vs_rest(X, classwise_params_dict)\n",
        "    correct_predictions = np.count_nonzero(pred_Y.ravel() == Y.ravel())\n",
        "    accuracy = correct_predictions/len(Y)\n",
        "    return accuracy   "
      ],
      "execution_count": null,
      "outputs": []
    },
    {
      "cell_type": "code",
      "metadata": {
        "id": "PR_YckY2gUrw",
        "colab": {
          "base_uri": "https://localhost:8080/"
        },
        "outputId": "12dec576-8576-486b-8c0e-95d288cb6abb"
      },
      "source": [
        "accuracy = predict_and_evaluate(val_X, val_Y, classwise_params_dict)\n",
        "print(\"Accuracy on Validation Data: \", accuracy)"
      ],
      "execution_count": null,
      "outputs": [
        {
          "output_type": "stream",
          "text": [
            "Accuracy on Validation Data:  1.0\n"
          ],
          "name": "stdout"
        }
      ]
    },
    {
      "cell_type": "markdown",
      "metadata": {
        "id": "ZRK_OJ6qkpRH"
      },
      "source": [
        "We got 100% accuracy on the validation set without regularization ($\\lambda=0$). \n",
        "\n",
        "Since there are only 4 features in the dataset, we don't need to use regularization here."
      ]
    },
    {
      "cell_type": "markdown",
      "metadata": {
        "id": "d1-7G3a3XiGV"
      },
      "source": [
        "### Training on the entire Train Data & Reporting the Accuracy on the Test Data"
      ]
    },
    {
      "cell_type": "code",
      "metadata": {
        "id": "ZglPSfMVXlDK",
        "colab": {
          "base_uri": "https://localhost:8080/"
        },
        "outputId": "54ff0b36-a2ac-48bb-f04c-34ab2782feb6"
      },
      "source": [
        "# Merging train & validation sets\n",
        "all_train_X = np.vstack((train_X, val_X))\n",
        "all_train_Y = np.vstack((train_Y, val_Y))\n",
        "\n",
        "# Training\n",
        "classwise_params_dict = one_vs_rest(all_train_X, all_train_Y, w, b, cost_diff_threshold, learning_rate, Lambda)\n",
        "\n",
        "# Evaluation\n",
        "accuracy = predict_and_evaluate(test_X, test_Y, classwise_params_dict)\n",
        "print(\"Accuracy on Test Data: \", accuracy)"
      ],
      "execution_count": null,
      "outputs": [
        {
          "output_type": "stream",
          "text": [
            "Accuracy on Test Data:  0.967741935483871\n"
          ],
          "name": "stdout"
        }
      ]
    }
  ]
}